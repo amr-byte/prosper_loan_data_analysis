{
 "cells": [
  {
   "cell_type": "markdown",
   "metadata": {},
   "source": [
    "# Exploring Prosper's Loan data\n",
    "## by Amr Gamal Anwar\n",
    "\n",
    "## Preliminary Wrangling\n",
    "\n",
    "This data set contains 113,937 loans with 81 variables on each loan, including loan amount, borrower rate (or interest rate), current loan status, borrower income, and many others."
   ]
  },
  {
   "cell_type": "code",
   "execution_count": 1,
   "metadata": {},
   "outputs": [],
   "source": [
    "# import all packages and set plots to be embedded inline\n",
    "import numpy as np\n",
    "import pandas as pd\n",
    "import matplotlib.pyplot as plt\n",
    "import seaborn as sb\n",
    "\n",
    "%matplotlib inline"
   ]
  },
  {
   "cell_type": "code",
   "execution_count": 2,
   "metadata": {},
   "outputs": [
    {
     "data": {
      "text/html": [
       "<div>\n",
       "<style scoped>\n",
       "    .dataframe tbody tr th:only-of-type {\n",
       "        vertical-align: middle;\n",
       "    }\n",
       "\n",
       "    .dataframe tbody tr th {\n",
       "        vertical-align: top;\n",
       "    }\n",
       "\n",
       "    .dataframe thead th {\n",
       "        text-align: right;\n",
       "    }\n",
       "</style>\n",
       "<table border=\"1\" class=\"dataframe\">\n",
       "  <thead>\n",
       "    <tr style=\"text-align: right;\">\n",
       "      <th></th>\n",
       "      <th>ListingKey</th>\n",
       "      <th>ListingNumber</th>\n",
       "      <th>ListingCreationDate</th>\n",
       "      <th>CreditGrade</th>\n",
       "      <th>Term</th>\n",
       "      <th>LoanStatus</th>\n",
       "      <th>ClosedDate</th>\n",
       "      <th>BorrowerAPR</th>\n",
       "      <th>BorrowerRate</th>\n",
       "      <th>LenderYield</th>\n",
       "      <th>...</th>\n",
       "      <th>LP_ServiceFees</th>\n",
       "      <th>LP_CollectionFees</th>\n",
       "      <th>LP_GrossPrincipalLoss</th>\n",
       "      <th>LP_NetPrincipalLoss</th>\n",
       "      <th>LP_NonPrincipalRecoverypayments</th>\n",
       "      <th>PercentFunded</th>\n",
       "      <th>Recommendations</th>\n",
       "      <th>InvestmentFromFriendsCount</th>\n",
       "      <th>InvestmentFromFriendsAmount</th>\n",
       "      <th>Investors</th>\n",
       "    </tr>\n",
       "  </thead>\n",
       "  <tbody>\n",
       "    <tr>\n",
       "      <th>0</th>\n",
       "      <td>1021339766868145413AB3B</td>\n",
       "      <td>193129</td>\n",
       "      <td>2007-08-26 19:09:29.263000000</td>\n",
       "      <td>C</td>\n",
       "      <td>36</td>\n",
       "      <td>Completed</td>\n",
       "      <td>2009-08-14 00:00:00</td>\n",
       "      <td>0.16516</td>\n",
       "      <td>0.1580</td>\n",
       "      <td>0.1380</td>\n",
       "      <td>...</td>\n",
       "      <td>-133.18</td>\n",
       "      <td>0.0</td>\n",
       "      <td>0.0</td>\n",
       "      <td>0.0</td>\n",
       "      <td>0.0</td>\n",
       "      <td>1.0</td>\n",
       "      <td>0</td>\n",
       "      <td>0</td>\n",
       "      <td>0.0</td>\n",
       "      <td>258</td>\n",
       "    </tr>\n",
       "    <tr>\n",
       "      <th>1</th>\n",
       "      <td>10273602499503308B223C1</td>\n",
       "      <td>1209647</td>\n",
       "      <td>2014-02-27 08:28:07.900000000</td>\n",
       "      <td>NaN</td>\n",
       "      <td>36</td>\n",
       "      <td>Current</td>\n",
       "      <td>NaN</td>\n",
       "      <td>0.12016</td>\n",
       "      <td>0.0920</td>\n",
       "      <td>0.0820</td>\n",
       "      <td>...</td>\n",
       "      <td>0.00</td>\n",
       "      <td>0.0</td>\n",
       "      <td>0.0</td>\n",
       "      <td>0.0</td>\n",
       "      <td>0.0</td>\n",
       "      <td>1.0</td>\n",
       "      <td>0</td>\n",
       "      <td>0</td>\n",
       "      <td>0.0</td>\n",
       "      <td>1</td>\n",
       "    </tr>\n",
       "    <tr>\n",
       "      <th>2</th>\n",
       "      <td>0EE9337825851032864889A</td>\n",
       "      <td>81716</td>\n",
       "      <td>2007-01-05 15:00:47.090000000</td>\n",
       "      <td>HR</td>\n",
       "      <td>36</td>\n",
       "      <td>Completed</td>\n",
       "      <td>2009-12-17 00:00:00</td>\n",
       "      <td>0.28269</td>\n",
       "      <td>0.2750</td>\n",
       "      <td>0.2400</td>\n",
       "      <td>...</td>\n",
       "      <td>-24.20</td>\n",
       "      <td>0.0</td>\n",
       "      <td>0.0</td>\n",
       "      <td>0.0</td>\n",
       "      <td>0.0</td>\n",
       "      <td>1.0</td>\n",
       "      <td>0</td>\n",
       "      <td>0</td>\n",
       "      <td>0.0</td>\n",
       "      <td>41</td>\n",
       "    </tr>\n",
       "    <tr>\n",
       "      <th>3</th>\n",
       "      <td>0EF5356002482715299901A</td>\n",
       "      <td>658116</td>\n",
       "      <td>2012-10-22 11:02:35.010000000</td>\n",
       "      <td>NaN</td>\n",
       "      <td>36</td>\n",
       "      <td>Current</td>\n",
       "      <td>NaN</td>\n",
       "      <td>0.12528</td>\n",
       "      <td>0.0974</td>\n",
       "      <td>0.0874</td>\n",
       "      <td>...</td>\n",
       "      <td>-108.01</td>\n",
       "      <td>0.0</td>\n",
       "      <td>0.0</td>\n",
       "      <td>0.0</td>\n",
       "      <td>0.0</td>\n",
       "      <td>1.0</td>\n",
       "      <td>0</td>\n",
       "      <td>0</td>\n",
       "      <td>0.0</td>\n",
       "      <td>158</td>\n",
       "    </tr>\n",
       "    <tr>\n",
       "      <th>4</th>\n",
       "      <td>0F023589499656230C5E3E2</td>\n",
       "      <td>909464</td>\n",
       "      <td>2013-09-14 18:38:39.097000000</td>\n",
       "      <td>NaN</td>\n",
       "      <td>36</td>\n",
       "      <td>Current</td>\n",
       "      <td>NaN</td>\n",
       "      <td>0.24614</td>\n",
       "      <td>0.2085</td>\n",
       "      <td>0.1985</td>\n",
       "      <td>...</td>\n",
       "      <td>-60.27</td>\n",
       "      <td>0.0</td>\n",
       "      <td>0.0</td>\n",
       "      <td>0.0</td>\n",
       "      <td>0.0</td>\n",
       "      <td>1.0</td>\n",
       "      <td>0</td>\n",
       "      <td>0</td>\n",
       "      <td>0.0</td>\n",
       "      <td>20</td>\n",
       "    </tr>\n",
       "  </tbody>\n",
       "</table>\n",
       "<p>5 rows × 81 columns</p>\n",
       "</div>"
      ],
      "text/plain": [
       "                ListingKey  ListingNumber            ListingCreationDate  \\\n",
       "0  1021339766868145413AB3B         193129  2007-08-26 19:09:29.263000000   \n",
       "1  10273602499503308B223C1        1209647  2014-02-27 08:28:07.900000000   \n",
       "2  0EE9337825851032864889A          81716  2007-01-05 15:00:47.090000000   \n",
       "3  0EF5356002482715299901A         658116  2012-10-22 11:02:35.010000000   \n",
       "4  0F023589499656230C5E3E2         909464  2013-09-14 18:38:39.097000000   \n",
       "\n",
       "  CreditGrade  Term LoanStatus           ClosedDate  BorrowerAPR  \\\n",
       "0           C    36  Completed  2009-08-14 00:00:00      0.16516   \n",
       "1         NaN    36    Current                  NaN      0.12016   \n",
       "2          HR    36  Completed  2009-12-17 00:00:00      0.28269   \n",
       "3         NaN    36    Current                  NaN      0.12528   \n",
       "4         NaN    36    Current                  NaN      0.24614   \n",
       "\n",
       "   BorrowerRate  LenderYield  ...  LP_ServiceFees  LP_CollectionFees  \\\n",
       "0        0.1580       0.1380  ...         -133.18                0.0   \n",
       "1        0.0920       0.0820  ...            0.00                0.0   \n",
       "2        0.2750       0.2400  ...          -24.20                0.0   \n",
       "3        0.0974       0.0874  ...         -108.01                0.0   \n",
       "4        0.2085       0.1985  ...          -60.27                0.0   \n",
       "\n",
       "   LP_GrossPrincipalLoss  LP_NetPrincipalLoss LP_NonPrincipalRecoverypayments  \\\n",
       "0                    0.0                  0.0                             0.0   \n",
       "1                    0.0                  0.0                             0.0   \n",
       "2                    0.0                  0.0                             0.0   \n",
       "3                    0.0                  0.0                             0.0   \n",
       "4                    0.0                  0.0                             0.0   \n",
       "\n",
       "   PercentFunded  Recommendations InvestmentFromFriendsCount  \\\n",
       "0            1.0                0                          0   \n",
       "1            1.0                0                          0   \n",
       "2            1.0                0                          0   \n",
       "3            1.0                0                          0   \n",
       "4            1.0                0                          0   \n",
       "\n",
       "  InvestmentFromFriendsAmount Investors  \n",
       "0                         0.0       258  \n",
       "1                         0.0         1  \n",
       "2                         0.0        41  \n",
       "3                         0.0       158  \n",
       "4                         0.0        20  \n",
       "\n",
       "[5 rows x 81 columns]"
      ]
     },
     "execution_count": 2,
     "metadata": {},
     "output_type": "execute_result"
    }
   ],
   "source": [
    "df = pd.read_csv('prosperLoanData.csv')\n",
    "df.head()"
   ]
  },
  {
   "cell_type": "code",
   "execution_count": 3,
   "metadata": {},
   "outputs": [
    {
     "data": {
      "text/plain": [
       "Index(['ListingKey', 'ListingNumber', 'ListingCreationDate', 'CreditGrade',\n",
       "       'Term', 'LoanStatus', 'ClosedDate', 'BorrowerAPR', 'BorrowerRate',\n",
       "       'LenderYield', 'EstimatedEffectiveYield', 'EstimatedLoss',\n",
       "       'EstimatedReturn', 'ProsperRating (numeric)', 'ProsperRating (Alpha)',\n",
       "       'ProsperScore', 'ListingCategory (numeric)', 'BorrowerState',\n",
       "       'Occupation', 'EmploymentStatus', 'EmploymentStatusDuration',\n",
       "       'IsBorrowerHomeowner', 'CurrentlyInGroup', 'GroupKey',\n",
       "       'DateCreditPulled', 'CreditScoreRangeLower', 'CreditScoreRangeUpper',\n",
       "       'FirstRecordedCreditLine', 'CurrentCreditLines', 'OpenCreditLines',\n",
       "       'TotalCreditLinespast7years', 'OpenRevolvingAccounts',\n",
       "       'OpenRevolvingMonthlyPayment', 'InquiriesLast6Months', 'TotalInquiries',\n",
       "       'CurrentDelinquencies', 'AmountDelinquent', 'DelinquenciesLast7Years',\n",
       "       'PublicRecordsLast10Years', 'PublicRecordsLast12Months',\n",
       "       'RevolvingCreditBalance', 'BankcardUtilization',\n",
       "       'AvailableBankcardCredit', 'TotalTrades',\n",
       "       'TradesNeverDelinquent (percentage)', 'TradesOpenedLast6Months',\n",
       "       'DebtToIncomeRatio', 'IncomeRange', 'IncomeVerifiable',\n",
       "       'StatedMonthlyIncome', 'LoanKey', 'TotalProsperLoans',\n",
       "       'TotalProsperPaymentsBilled', 'OnTimeProsperPayments',\n",
       "       'ProsperPaymentsLessThanOneMonthLate',\n",
       "       'ProsperPaymentsOneMonthPlusLate', 'ProsperPrincipalBorrowed',\n",
       "       'ProsperPrincipalOutstanding', 'ScorexChangeAtTimeOfListing',\n",
       "       'LoanCurrentDaysDelinquent', 'LoanFirstDefaultedCycleNumber',\n",
       "       'LoanMonthsSinceOrigination', 'LoanNumber', 'LoanOriginalAmount',\n",
       "       'LoanOriginationDate', 'LoanOriginationQuarter', 'MemberKey',\n",
       "       'MonthlyLoanPayment', 'LP_CustomerPayments',\n",
       "       'LP_CustomerPrincipalPayments', 'LP_InterestandFees', 'LP_ServiceFees',\n",
       "       'LP_CollectionFees', 'LP_GrossPrincipalLoss', 'LP_NetPrincipalLoss',\n",
       "       'LP_NonPrincipalRecoverypayments', 'PercentFunded', 'Recommendations',\n",
       "       'InvestmentFromFriendsCount', 'InvestmentFromFriendsAmount',\n",
       "       'Investors'],\n",
       "      dtype='object')"
      ]
     },
     "execution_count": 3,
     "metadata": {},
     "output_type": "execute_result"
    }
   ],
   "source": [
    "df.columns"
   ]
  },
  {
   "cell_type": "code",
   "execution_count": 4,
   "metadata": {},
   "outputs": [
    {
     "data": {
      "text/plain": [
       "1     58308\n",
       "0     16965\n",
       "7     10494\n",
       "2      7433\n",
       "3      7189\n",
       "6      2572\n",
       "4      2395\n",
       "13     1996\n",
       "15     1522\n",
       "18      885\n",
       "14      876\n",
       "20      771\n",
       "19      768\n",
       "5       756\n",
       "16      304\n",
       "11      217\n",
       "8       199\n",
       "10       91\n",
       "9        85\n",
       "12       59\n",
       "17       52\n",
       "Name: ListingCategory (numeric), dtype: int64"
      ]
     },
     "execution_count": 4,
     "metadata": {},
     "output_type": "execute_result"
    }
   ],
   "source": [
    "df['ListingCategory (numeric)'].value_counts()"
   ]
  },
  {
   "cell_type": "code",
   "execution_count": 5,
   "metadata": {},
   "outputs": [
    {
     "data": {
      "text/plain": [
       "(113937, 81)"
      ]
     },
     "execution_count": 5,
     "metadata": {},
     "output_type": "execute_result"
    }
   ],
   "source": [
    "df.shape"
   ]
  },
  {
   "cell_type": "markdown",
   "metadata": {},
   "source": [
    "### What is the structure of your dataset?\n",
    "\n",
    "We have 11,3937 rows and 81 columns\n",
    "\n",
    "### What is/are the main feature(s) of interest in your dataset?\n",
    "\n",
    "- BorrowerRate: The Borrower's interest rate for this loan.\n",
    "\n",
    "\n",
    "- EstimatedReturn\tThe estimated return assigned to the listing at the time it was created. Estimated return is the difference between the Estimated Effective Yield and the Estimated Loss Rate. Applicable for loans originated after July 2009.\n",
    "\n",
    "\n",
    "- LoanOriginalAmount\tThe origination amount of the loan.\n",
    "\n",
    "### What features in the dataset do you think will help support your investigation into your feature(s) of interest?\n",
    "\n",
    "- ListingNumber:\tThe number that uniquely identifies the listing to the public as displayed on the website.\n",
    "\n",
    "- ListingCreationDate: The date the listing was created.\n",
    "\n",
    "- CreditGrade: The Credit rating that was assigned at the time the listing went live. Applicable for listings pre-2009 period and will only be populated for those listings.\n",
    "\n",
    "- Term: The length of the loan expressed in months.\n",
    "\n",
    "- LoanStatus: The current status of the loan: Cancelled, Chargedoff, Completed, Current, Defaulted, FinalPaymentInProgress, PastDue. The PastDue status will be accompanied by a delinquency bucket.\n",
    "\n",
    "- ProsperScore: A custom risk score built using historical Prosper data. The score ranges from 1-10, with 10 being the best, or lowest risk score. Applicable for loans originated after July 2009.\n",
    "\n",
    "- ListingCategory: The category of the listing that the borrower selected when posting their listing: 0 - Not Available, 1 \n",
    "    Debt Consolidation, 2 - Home Improvement, 3 - Business, 4 - Personal Loan, 5 - Student Use, 6 - Auto, 7- Other, 8 - Baby&Adoption, 9 - Boat, 10 - Cosmetic Procedure, 11 - Engagement Ring, 12 - Green Loans, 13 - Household Expenses, 14 - Large Purchases, 15 - Medical/Dental, 16 - Motorcycle, 17 - RV, 18 - Taxes, 19 - Vacation, 20 - Wedding Loans\n",
    "\n",
    "- Occupation: The Occupation selected by the Borrower at the time they created the listing.\n",
    "\n",
    "- EmploymentStatusDuration: The length in months of the employment status at the time the listing was created.\n",
    "\n",
    "- IsBorrowerHomeowner: A Borrower will be classified as a homowner if they have a mortgage on their credit profile or provide documentation confirming they are a homeowner.\n",
    "\n",
    "- StatedMonthlyIncome: The monthly income the borrower stated at the time the listing was created.\n",
    "\n",
    "- IncomeRange:\tThe income range of the borrower at the time the listing was created.\n"
   ]
  },
  {
   "cell_type": "code",
   "execution_count": 6,
   "metadata": {},
   "outputs": [
    {
     "data": {
      "text/html": [
       "<div>\n",
       "<style scoped>\n",
       "    .dataframe tbody tr th:only-of-type {\n",
       "        vertical-align: middle;\n",
       "    }\n",
       "\n",
       "    .dataframe tbody tr th {\n",
       "        vertical-align: top;\n",
       "    }\n",
       "\n",
       "    .dataframe thead th {\n",
       "        text-align: right;\n",
       "    }\n",
       "</style>\n",
       "<table border=\"1\" class=\"dataframe\">\n",
       "  <thead>\n",
       "    <tr style=\"text-align: right;\">\n",
       "      <th></th>\n",
       "      <th>ListingNumber</th>\n",
       "      <th>CreditGrade</th>\n",
       "      <th>Term</th>\n",
       "      <th>ListingCreationDate</th>\n",
       "      <th>LoanStatus</th>\n",
       "      <th>BorrowerRate</th>\n",
       "      <th>EstimatedReturn</th>\n",
       "      <th>ProsperScore</th>\n",
       "      <th>EmploymentStatusDuration</th>\n",
       "      <th>IsBorrowerHomeowner</th>\n",
       "      <th>StatedMonthlyIncome</th>\n",
       "      <th>IncomeRange</th>\n",
       "      <th>Occupation</th>\n",
       "      <th>ListingCategory (numeric)</th>\n",
       "      <th>LoanOriginalAmount</th>\n",
       "    </tr>\n",
       "  </thead>\n",
       "  <tbody>\n",
       "    <tr>\n",
       "      <th>0</th>\n",
       "      <td>193129</td>\n",
       "      <td>C</td>\n",
       "      <td>36</td>\n",
       "      <td>2007-08-26 19:09:29.263000000</td>\n",
       "      <td>Completed</td>\n",
       "      <td>0.1580</td>\n",
       "      <td>NaN</td>\n",
       "      <td>NaN</td>\n",
       "      <td>2.0</td>\n",
       "      <td>True</td>\n",
       "      <td>3083.333333</td>\n",
       "      <td>$25,000-49,999</td>\n",
       "      <td>Other</td>\n",
       "      <td>0</td>\n",
       "      <td>9425</td>\n",
       "    </tr>\n",
       "    <tr>\n",
       "      <th>1</th>\n",
       "      <td>1209647</td>\n",
       "      <td>NaN</td>\n",
       "      <td>36</td>\n",
       "      <td>2014-02-27 08:28:07.900000000</td>\n",
       "      <td>Current</td>\n",
       "      <td>0.0920</td>\n",
       "      <td>0.05470</td>\n",
       "      <td>7.0</td>\n",
       "      <td>44.0</td>\n",
       "      <td>False</td>\n",
       "      <td>6125.000000</td>\n",
       "      <td>$50,000-74,999</td>\n",
       "      <td>Professional</td>\n",
       "      <td>2</td>\n",
       "      <td>10000</td>\n",
       "    </tr>\n",
       "    <tr>\n",
       "      <th>2</th>\n",
       "      <td>81716</td>\n",
       "      <td>HR</td>\n",
       "      <td>36</td>\n",
       "      <td>2007-01-05 15:00:47.090000000</td>\n",
       "      <td>Completed</td>\n",
       "      <td>0.2750</td>\n",
       "      <td>NaN</td>\n",
       "      <td>NaN</td>\n",
       "      <td>NaN</td>\n",
       "      <td>False</td>\n",
       "      <td>2083.333333</td>\n",
       "      <td>Not displayed</td>\n",
       "      <td>Other</td>\n",
       "      <td>0</td>\n",
       "      <td>3001</td>\n",
       "    </tr>\n",
       "    <tr>\n",
       "      <th>3</th>\n",
       "      <td>658116</td>\n",
       "      <td>NaN</td>\n",
       "      <td>36</td>\n",
       "      <td>2012-10-22 11:02:35.010000000</td>\n",
       "      <td>Current</td>\n",
       "      <td>0.0974</td>\n",
       "      <td>0.06000</td>\n",
       "      <td>9.0</td>\n",
       "      <td>113.0</td>\n",
       "      <td>True</td>\n",
       "      <td>2875.000000</td>\n",
       "      <td>$25,000-49,999</td>\n",
       "      <td>Skilled Labor</td>\n",
       "      <td>16</td>\n",
       "      <td>10000</td>\n",
       "    </tr>\n",
       "    <tr>\n",
       "      <th>4</th>\n",
       "      <td>909464</td>\n",
       "      <td>NaN</td>\n",
       "      <td>36</td>\n",
       "      <td>2013-09-14 18:38:39.097000000</td>\n",
       "      <td>Current</td>\n",
       "      <td>0.2085</td>\n",
       "      <td>0.09066</td>\n",
       "      <td>4.0</td>\n",
       "      <td>44.0</td>\n",
       "      <td>True</td>\n",
       "      <td>9583.333333</td>\n",
       "      <td>$100,000+</td>\n",
       "      <td>Executive</td>\n",
       "      <td>2</td>\n",
       "      <td>15000</td>\n",
       "    </tr>\n",
       "  </tbody>\n",
       "</table>\n",
       "</div>"
      ],
      "text/plain": [
       "   ListingNumber CreditGrade  Term            ListingCreationDate LoanStatus  \\\n",
       "0         193129           C    36  2007-08-26 19:09:29.263000000  Completed   \n",
       "1        1209647         NaN    36  2014-02-27 08:28:07.900000000    Current   \n",
       "2          81716          HR    36  2007-01-05 15:00:47.090000000  Completed   \n",
       "3         658116         NaN    36  2012-10-22 11:02:35.010000000    Current   \n",
       "4         909464         NaN    36  2013-09-14 18:38:39.097000000    Current   \n",
       "\n",
       "   BorrowerRate  EstimatedReturn  ProsperScore  EmploymentStatusDuration  \\\n",
       "0        0.1580              NaN           NaN                       2.0   \n",
       "1        0.0920          0.05470           7.0                      44.0   \n",
       "2        0.2750              NaN           NaN                       NaN   \n",
       "3        0.0974          0.06000           9.0                     113.0   \n",
       "4        0.2085          0.09066           4.0                      44.0   \n",
       "\n",
       "   IsBorrowerHomeowner  StatedMonthlyIncome     IncomeRange     Occupation  \\\n",
       "0                 True          3083.333333  $25,000-49,999          Other   \n",
       "1                False          6125.000000  $50,000-74,999   Professional   \n",
       "2                False          2083.333333   Not displayed          Other   \n",
       "3                 True          2875.000000  $25,000-49,999  Skilled Labor   \n",
       "4                 True          9583.333333       $100,000+      Executive   \n",
       "\n",
       "   ListingCategory (numeric)  LoanOriginalAmount  \n",
       "0                          0                9425  \n",
       "1                          2               10000  \n",
       "2                          0                3001  \n",
       "3                         16               10000  \n",
       "4                          2               15000  "
      ]
     },
     "execution_count": 6,
     "metadata": {},
     "output_type": "execute_result"
    }
   ],
   "source": [
    "df_new = df[['ListingNumber', 'CreditGrade',\n",
    "       'Term', 'ListingCreationDate', 'LoanStatus', 'BorrowerRate',\n",
    "       'EstimatedReturn', 'ProsperScore', 'EmploymentStatusDuration',\n",
    "       'IsBorrowerHomeowner', 'StatedMonthlyIncome', 'IncomeRange', 'Occupation', 'ListingCategory (numeric)', 'LoanOriginalAmount']]\n",
    "df_new.head()"
   ]
  },
  {
   "cell_type": "code",
   "execution_count": 7,
   "metadata": {},
   "outputs": [
    {
     "name": "stdout",
     "output_type": "stream",
     "text": [
      "<class 'pandas.core.frame.DataFrame'>\n",
      "RangeIndex: 113937 entries, 0 to 113936\n",
      "Data columns (total 15 columns):\n",
      " #   Column                     Non-Null Count   Dtype  \n",
      "---  ------                     --------------   -----  \n",
      " 0   ListingNumber              113937 non-null  int64  \n",
      " 1   CreditGrade                28953 non-null   object \n",
      " 2   Term                       113937 non-null  int64  \n",
      " 3   ListingCreationDate        113937 non-null  object \n",
      " 4   LoanStatus                 113937 non-null  object \n",
      " 5   BorrowerRate               113937 non-null  float64\n",
      " 6   EstimatedReturn            84853 non-null   float64\n",
      " 7   ProsperScore               84853 non-null   float64\n",
      " 8   EmploymentStatusDuration   106312 non-null  float64\n",
      " 9   IsBorrowerHomeowner        113937 non-null  bool   \n",
      " 10  StatedMonthlyIncome        113937 non-null  float64\n",
      " 11  IncomeRange                113937 non-null  object \n",
      " 12  Occupation                 110349 non-null  object \n",
      " 13  ListingCategory (numeric)  113937 non-null  int64  \n",
      " 14  LoanOriginalAmount         113937 non-null  int64  \n",
      "dtypes: bool(1), float64(5), int64(4), object(5)\n",
      "memory usage: 12.3+ MB\n"
     ]
    }
   ],
   "source": [
    "df_new.info()"
   ]
  },
  {
   "cell_type": "code",
   "execution_count": 8,
   "metadata": {},
   "outputs": [
    {
     "name": "stderr",
     "output_type": "stream",
     "text": [
      "C:\\ProgramData\\Anaconda3\\lib\\site-packages\\ipykernel_launcher.py:2: SettingWithCopyWarning: \n",
      "A value is trying to be set on a copy of a slice from a DataFrame.\n",
      "Try using .loc[row_indexer,col_indexer] = value instead\n",
      "\n",
      "See the caveats in the documentation: https://pandas.pydata.org/pandas-docs/stable/user_guide/indexing.html#returning-a-view-versus-a-copy\n",
      "  \n",
      "C:\\ProgramData\\Anaconda3\\lib\\site-packages\\ipykernel_launcher.py:3: SettingWithCopyWarning: \n",
      "A value is trying to be set on a copy of a slice from a DataFrame.\n",
      "Try using .loc[row_indexer,col_indexer] = value instead\n",
      "\n",
      "See the caveats in the documentation: https://pandas.pydata.org/pandas-docs/stable/user_guide/indexing.html#returning-a-view-versus-a-copy\n",
      "  This is separate from the ipykernel package so we can avoid doing imports until\n"
     ]
    }
   ],
   "source": [
    "# Change types of ProsperScore and Term columns into category dtype\n",
    "df_new['ProsperScore'] = df_new['ProsperScore'].astype('category')\n",
    "df_new['Term'] = df_new['Term'].astype('category')"
   ]
  },
  {
   "cell_type": "code",
   "execution_count": 9,
   "metadata": {},
   "outputs": [
    {
     "name": "stdout",
     "output_type": "stream",
     "text": [
      "<class 'pandas.core.frame.DataFrame'>\n",
      "RangeIndex: 113937 entries, 0 to 113936\n",
      "Data columns (total 15 columns):\n",
      " #   Column                     Non-Null Count   Dtype   \n",
      "---  ------                     --------------   -----   \n",
      " 0   ListingNumber              113937 non-null  int64   \n",
      " 1   CreditGrade                28953 non-null   object  \n",
      " 2   Term                       113937 non-null  category\n",
      " 3   ListingCreationDate        113937 non-null  object  \n",
      " 4   LoanStatus                 113937 non-null  object  \n",
      " 5   BorrowerRate               113937 non-null  float64 \n",
      " 6   EstimatedReturn            84853 non-null   float64 \n",
      " 7   ProsperScore               84853 non-null   category\n",
      " 8   EmploymentStatusDuration   106312 non-null  float64 \n",
      " 9   IsBorrowerHomeowner        113937 non-null  bool    \n",
      " 10  StatedMonthlyIncome        113937 non-null  float64 \n",
      " 11  IncomeRange                113937 non-null  object  \n",
      " 12  Occupation                 110349 non-null  object  \n",
      " 13  ListingCategory (numeric)  113937 non-null  int64   \n",
      " 14  LoanOriginalAmount         113937 non-null  int64   \n",
      "dtypes: bool(1), category(2), float64(4), int64(3), object(5)\n",
      "memory usage: 10.8+ MB\n"
     ]
    }
   ],
   "source": [
    "#Check\n",
    "df_new.info()"
   ]
  },
  {
   "cell_type": "code",
   "execution_count": 10,
   "metadata": {},
   "outputs": [
    {
     "name": "stderr",
     "output_type": "stream",
     "text": [
      "C:\\ProgramData\\Anaconda3\\lib\\site-packages\\pandas\\core\\series.py:4569: SettingWithCopyWarning: \n",
      "A value is trying to be set on a copy of a slice from a DataFrame\n",
      "\n",
      "See the caveats in the documentation: https://pandas.pydata.org/pandas-docs/stable/user_guide/indexing.html#returning-a-view-versus-a-copy\n",
      "  method=method,\n",
      "C:\\ProgramData\\Anaconda3\\lib\\site-packages\\ipykernel_launcher.py:8: SettingWithCopyWarning: \n",
      "A value is trying to be set on a copy of a slice from a DataFrame.\n",
      "Try using .loc[row_indexer,col_indexer] = value instead\n",
      "\n",
      "See the caveats in the documentation: https://pandas.pydata.org/pandas-docs/stable/user_guide/indexing.html#returning-a-view-versus-a-copy\n",
      "  \n"
     ]
    }
   ],
   "source": [
    "#Change ListingCategory column to string values\n",
    "df_new['ListingCategory (numeric)'].replace({0: 'Not Available', 1:'Debt', 2:'Home Improvment', 3:'Business', 4:'Personal Loans', 5:'Student Use',\n",
    "                6:'Auto', 7:'Other', 8:'Baby&Adoption', 9:'Boat', 10:'Cosmetic Procedure', 11:'Engagment Ring',\n",
    "                12:'Green Loans', 13:'Household Expenses', 14:'Large Purchases', 15:'Medical/Dental', 16:'Motorcycle', \n",
    "                17:'RV', 18:'Taxes', 19:'Vacation', 20:'Wedding Loans'}, inplace=True)\n",
    "\n",
    "#Change the dtype to category\n",
    "df_new['ListingCategory (numeric)'] = df_new['ListingCategory (numeric)'].astype('category')"
   ]
  },
  {
   "cell_type": "code",
   "execution_count": 11,
   "metadata": {},
   "outputs": [
    {
     "data": {
      "text/plain": [
       "Index(['ListingNumber', 'CreditGrade', 'Term', 'ListingCreationDate',\n",
       "       'LoanStatus', 'BorrowerRate', 'EstimatedReturn', 'ProsperScore',\n",
       "       'EmploymentStatusDuration', 'IsBorrowerHomeowner',\n",
       "       'StatedMonthlyIncome', 'IncomeRange', 'Occupation', 'ListingCategory',\n",
       "       'LoanOriginalAmount'],\n",
       "      dtype='object')"
      ]
     },
     "execution_count": 11,
     "metadata": {},
     "output_type": "execute_result"
    }
   ],
   "source": [
    "#Change Listing Category column name to fit the new format\n",
    "df_new = df_new.rename(columns={'ListingCategory (numeric)': 'ListingCategory'})\n",
    "\n",
    "#Check\n",
    "df_new.columns"
   ]
  },
  {
   "cell_type": "code",
   "execution_count": 12,
   "metadata": {},
   "outputs": [],
   "source": [
    "#Change All object columns to category dtype\n",
    "df_new['CreditGrade'] = df_new['CreditGrade'].astype('category')\n",
    "df_new['LoanStatus'] = df_new['LoanStatus'].astype('category')\n",
    "df_new['Occupation'] = df_new['Occupation'].astype('category')"
   ]
  },
  {
   "cell_type": "code",
   "execution_count": 13,
   "metadata": {},
   "outputs": [
    {
     "name": "stdout",
     "output_type": "stream",
     "text": [
      "<class 'pandas.core.frame.DataFrame'>\n",
      "RangeIndex: 113937 entries, 0 to 113936\n",
      "Data columns (total 15 columns):\n",
      " #   Column                    Non-Null Count   Dtype         \n",
      "---  ------                    --------------   -----         \n",
      " 0   ListingNumber             113937 non-null  int64         \n",
      " 1   CreditGrade               28953 non-null   category      \n",
      " 2   Term                      113937 non-null  category      \n",
      " 3   ListingCreationDate       113937 non-null  datetime64[ns]\n",
      " 4   LoanStatus                113937 non-null  category      \n",
      " 5   BorrowerRate              113937 non-null  float64       \n",
      " 6   EstimatedReturn           84853 non-null   float64       \n",
      " 7   ProsperScore              84853 non-null   category      \n",
      " 8   EmploymentStatusDuration  106312 non-null  float64       \n",
      " 9   IsBorrowerHomeowner       113937 non-null  bool          \n",
      " 10  StatedMonthlyIncome       113937 non-null  float64       \n",
      " 11  IncomeRange               113937 non-null  object        \n",
      " 12  Occupation                110349 non-null  category      \n",
      " 13  ListingCategory           113937 non-null  category      \n",
      " 14  LoanOriginalAmount        113937 non-null  int64         \n",
      "dtypes: bool(1), category(6), datetime64[ns](1), float64(4), int64(2), object(1)\n",
      "memory usage: 7.7+ MB\n"
     ]
    }
   ],
   "source": [
    "#Change ListingCreationDate into datetime\n",
    "df_new['ListingCreationDate'] = pd.to_datetime(df_new['ListingCreationDate'])\n",
    "\n",
    "#Check\n",
    "df_new.info()"
   ]
  },
  {
   "cell_type": "markdown",
   "metadata": {},
   "source": [
    "## Univariate Exploration"
   ]
  },
  {
   "cell_type": "markdown",
   "metadata": {},
   "source": [
    "<h3><center>Univariate Categorical Data</center></h3>"
   ]
  },
  {
   "cell_type": "code",
   "execution_count": 14,
   "metadata": {
    "scrolled": false
   },
   "outputs": [
    {
     "data": {
      "image/png": "[encoded data removed]",
      "text/plain": [
       "<Figure size 432x288 with 1 Axes>"
      ]
     },
     "metadata": {
      "needs_background": "light"
     },
     "output_type": "display_data"
    }
   ],
   "source": [
    "#Get base color variable and set it to blue\n",
    "base_color = sb.color_palette()[0]\n",
    "\n",
    "#Set frequency to order bars from largest to smallest\n",
    "freq_grade = df_new['CreditGrade'].value_counts().index\n",
    "\n",
    "# Draw a bar plot for the Credit Grade variable\n",
    "sb.countplot(data = df_new, x='CreditGrade', color=base_color, order=freq_grade)\n",
    "plt.title('Credit Grade counts');"
   ]
  },
  {
   "cell_type": "markdown",
   "metadata": {},
   "source": [
    "<b>Observation:</b>\n",
    "- We can see that the most common credit grades are C, D, and B. \n",
    "- The least common credit grade is NC."
   ]
  },
  {
   "cell_type": "code",
   "execution_count": 15,
   "metadata": {},
   "outputs": [
    {
     "data": {
      "image/png": "[encoded data removed]",
      "text/plain": [
       "<Figure size 432x288 with 1 Axes>"
      ]
     },
     "metadata": {
      "needs_background": "light"
     },
     "output_type": "display_data"
    }
   ],
   "source": [
    "# Loan Status bar chart\n",
    "freq_status = df_new['LoanStatus'].value_counts().index\n",
    "sb.countplot(data=df_new, y='LoanStatus', color=base_color, order=freq_status);"
   ]
  },
  {
   "cell_type": "code",
   "execution_count": 16,
   "metadata": {},
   "outputs": [
    {
     "data": {
      "text/plain": [
       "Current                   56576\n",
       "Completed                 38074\n",
       "Chargedoff                11992\n",
       "Defaulted                  5018\n",
       "Past Due (1-15 days)        806\n",
       "Past Due (31-60 days)       363\n",
       "Past Due (61-90 days)       313\n",
       "Past Due (91-120 days)      304\n",
       "Past Due (16-30 days)       265\n",
       "FinalPaymentInProgress      205\n",
       "Past Due (>120 days)         16\n",
       "Cancelled                     5\n",
       "Name: LoanStatus, dtype: int64"
      ]
     },
     "execution_count": 16,
     "metadata": {},
     "output_type": "execute_result"
    }
   ],
   "source": [
    "#Check the number of records for the statuses that shows no bars\n",
    "df['LoanStatus'].value_counts()"
   ]
  },
  {
   "cell_type": "markdown",
   "metadata": {},
   "source": [
    "<b>Observation:</b> \n",
    "- The most common loan status is current then completed then charged off.\n",
    "- Most other values like cancelled shows no record on the bar chart because their count is too small"
   ]
  },
  {
   "cell_type": "code",
   "execution_count": 17,
   "metadata": {},
   "outputs": [
    {
     "data": {
      "image/png": "[encoded data removed]",
      "text/plain": [
       "<Figure size 432x288 with 1 Axes>"
      ]
     },
     "metadata": {
      "needs_background": "light"
     },
     "output_type": "display_data"
    }
   ],
   "source": [
    "# ProsperScore bar chart, 1 being the highest risk and 10 being the lowest risk\n",
    "freq_score = df_new['ProsperScore'].value_counts().index\n",
    "sb.countplot(data=df_new, x='ProsperScore', color=base_color, order=freq_score);"
   ]
  },
  {
   "cell_type": "markdown",
   "metadata": {},
   "source": [
    "<b>Observation:</b>\n",
    "- We can notice that the most two common scores are 4 and 6, so slighlty below average risk and slightly above average risk, with average risk being 5.\n",
    "- Then we can see that the least common are the extremes at 1, 10, and 2. With most counts for the in-between.\n",
    "- There is a value for 11, which no information was given on under the data dictionary"
   ]
  },
  {
   "cell_type": "code",
   "execution_count": 37,
   "metadata": {},
   "outputs": [
    {
     "data": {
      "image/png": "[encoded data removed]",
      "text/plain": [
       "<Figure size 432x288 with 1 Axes>"
      ]
     },
     "metadata": {
      "needs_background": "light"
     },
     "output_type": "display_data"
    }
   ],
   "source": [
    "# Loan term (in months) bar chart\n",
    "freq_term = df_new['Term'].value_counts().index\n",
    "sb.countplot(data=df_new, x='Term', color=base_color, order=freq_term)\n",
    "plt.title('Count of Loan Term in Months')\n",
    "plt.xlabel('Count');"
   ]
  },
  {
   "cell_type": "markdown",
   "metadata": {},
   "source": [
    "<b> Observation:</b>\n",
    "- Obviously the 36 months term is the highest of the three, which means most loans apply for the medium length term."
   ]
  },
  {
   "cell_type": "code",
   "execution_count": 19,
   "metadata": {},
   "outputs": [
    {
     "data": {
      "text/plain": [
       "Other                          28617\n",
       "Professional                   13628\n",
       "Computer Programmer             4478\n",
       "Executive                       4311\n",
       "Teacher                         3759\n",
       "                               ...  \n",
       "Dentist                           68\n",
       "Student - College Freshman        41\n",
       "Student - Community College       28\n",
       "Judge                             22\n",
       "Student - Technical School        16\n",
       "Name: Occupation, Length: 67, dtype: int64"
      ]
     },
     "execution_count": 19,
     "metadata": {},
     "output_type": "execute_result"
    }
   ],
   "source": [
    "# Check record values for the Occupation column\n",
    "df_new['Occupation'].value_counts()"
   ]
  },
  {
   "cell_type": "markdown",
   "metadata": {},
   "source": [
    "<b>Observation:</b>\n",
    "- Most applicants list their occupation as 'Other' or 'Professional', which don't give many details into what their job is."
   ]
  },
  {
   "cell_type": "code",
   "execution_count": 20,
   "metadata": {},
   "outputs": [
    {
     "data": {
      "image/png": "[encoded data removed]",
      "text/plain": [
       "<Figure size 432x288 with 1 Axes>"
      ]
     },
     "metadata": {
      "needs_background": "light"
     },
     "output_type": "display_data"
    }
   ],
   "source": [
    "# Listing Category bar chart\n",
    "freq_category = df_new['ListingCategory'].value_counts().index\n",
    "sb.countplot(data=df_new, y='ListingCategory', color=base_color, order=freq_category);"
   ]
  },
  {
   "cell_type": "markdown",
   "metadata": {},
   "source": [
    "<b>Observation:</b>\n",
    "- The vast majority of loan applicants get a loan to pay off their debt.\n",
    "- We could need more information about the Not Availabe and Other categories."
   ]
  },
  {
   "cell_type": "code",
   "execution_count": 42,
   "metadata": {},
   "outputs": [
    {
     "data": {
      "image/png": "[encoded data removed]",
      "text/plain": [
       "<Figure size 432x288 with 1 Axes>"
      ]
     },
     "metadata": {
      "needs_background": "light"
     },
     "output_type": "display_data"
    }
   ],
   "source": [
    "sb.countplot(data=df_new, y='IncomeRange', color=base_color)\n",
    "plt.ylabel('Annual Income Ranges of Borrower')\n",
    "plt.xlabel('Count')\n",
    "plt.title('Count of Borrowers According to Income Range');"
   ]
  },
  {
   "cell_type": "markdown",
   "metadata": {},
   "source": [
    "<b>Observation:</b>\n",
    "- The most frequent income ranges are the 25,000-49,999 and the 50,000-74,999"
   ]
  },
  {
   "cell_type": "markdown",
   "metadata": {},
   "source": [
    "<h3><center> Univariate Numeric Data </center></h3>"
   ]
  },
  {
   "cell_type": "code",
   "execution_count": 22,
   "metadata": {},
   "outputs": [
    {
     "data": {
      "image/png": "[encoded data removed]",
      "text/plain": [
       "<Figure size 432x288 with 1 Axes>"
      ]
     },
     "metadata": {
      "needs_background": "light"
     },
     "output_type": "display_data"
    }
   ],
   "source": [
    "# Explore Borrower Rate distribution using histogram\n",
    "plt.hist(df_new['BorrowerRate'])\n",
    "plt.xlabel('Borrower Rate')\n",
    "plt.title('Interest Rate on all Loans');"
   ]
  },
  {
   "cell_type": "markdown",
   "metadata": {},
   "source": [
    "<b>Obsevation:</b>\n",
    "- The distribution looks normal with the most counted points between 0.1 and 0.2"
   ]
  },
  {
   "cell_type": "code",
   "execution_count": 23,
   "metadata": {},
   "outputs": [
    {
     "data": {
      "image/png": "[encoded data removed]",
      "text/plain": [
       "<Figure size 432x288 with 1 Axes>"
      ]
     },
     "metadata": {
      "needs_background": "light"
     },
     "output_type": "display_data"
    }
   ],
   "source": [
    "bins = np.arange(0, 0.21, 0.01)\n",
    "plt.hist(df_new['EstimatedReturn'], bins=bins)\n",
    "plt.xlabel('Estimated Return ratio')\n",
    "plt.title('Estimated Return from Loans');"
   ]
  },
  {
   "cell_type": "markdown",
   "metadata": {},
   "source": [
    "<b>Observation:</b>\n",
    "- Normal distribution with the most counted points between 0.07 and 0.08"
   ]
  },
  {
   "cell_type": "code",
   "execution_count": 24,
   "metadata": {},
   "outputs": [
    {
     "data": {
      "image/png": "[encoded data removed]",
      "text/plain": [
       "<Figure size 432x288 with 1 Axes>"
      ]
     },
     "metadata": {
      "needs_background": "light"
     },
     "output_type": "display_data"
    }
   ],
   "source": [
    "bins = np.arange(0, 500, 50)\n",
    "plt.hist(df_new['EmploymentStatusDuration'], bins=bins)\n",
    "plt.xlabel('Duration of Employment (in months)')\n",
    "plt.title('Borrowers Employment Duration');"
   ]
  },
  {
   "cell_type": "markdown",
   "metadata": {},
   "source": [
    "<b>Observation:</b>\n",
    "- Distribution is highly skewed to the right, cumulating most points between 0 and 50 months\n",
    "- We can notice the distribution takes the shape of a staircase, points cut off suddenly instead of a smooth decline."
   ]
  },
  {
   "cell_type": "code",
   "execution_count": 25,
   "metadata": {},
   "outputs": [
    {
     "data": {
      "image/png": "[encoded data removed]",
      "text/plain": [
       "<Figure size 432x288 with 1 Axes>"
      ]
     },
     "metadata": {
      "needs_background": "light"
     },
     "output_type": "display_data"
    }
   ],
   "source": [
    "# Now Let's check the distribution of stated income\n",
    "plt.hist(data=df_new, x='StatedMonthlyIncome');"
   ]
  },
  {
   "cell_type": "markdown",
   "metadata": {},
   "source": [
    "This plot doesn't show clear values, and that is due to the abundance of values in this column. So let's trim it down to the most common values"
   ]
  },
  {
   "cell_type": "code",
   "execution_count": 26,
   "metadata": {
    "scrolled": true
   },
   "outputs": [
    {
     "data": {
      "text/plain": [
       "4166.666667    3526\n",
       "5000.000000    3389\n",
       "3333.333333    2917\n",
       "3750.000000    2428\n",
       "5416.666667    2374\n",
       "               ... \n",
       "7101.000000       1\n",
       "2701.083333       1\n",
       "8183.833333       1\n",
       "8477.666667       1\n",
       "3843.500000       1\n",
       "Name: StatedMonthlyIncome, Length: 13502, dtype: int64"
      ]
     },
     "execution_count": 26,
     "metadata": {},
     "output_type": "execute_result"
    }
   ],
   "source": [
    "#Check where the common values fall\n",
    "df_new['StatedMonthlyIncome'].value_counts()"
   ]
  },
  {
   "cell_type": "code",
   "execution_count": 44,
   "metadata": {},
   "outputs": [
    {
     "data": {
      "image/png": "[encoded data removed]",
      "text/plain": [
       "<Figure size 432x288 with 1 Axes>"
      ]
     },
     "metadata": {
      "needs_background": "light"
     },
     "output_type": "display_data"
    }
   ],
   "source": [
    "#Make a new dataframe with the values above 20,000 filtered out\n",
    "df_copy = df_new[df_new['StatedMonthlyIncome'] <= 20000]\n",
    "\n",
    "#Then use it to make the bins\n",
    "bins = np.arange(0, df_copy['StatedMonthlyIncome'].max()+1000,1000 ) \n",
    "plt.hist(data = df_new, x = 'StatedMonthlyIncome', bins = bins)\n",
    "plt.xlabel('Monthly Income in $')\n",
    "plt.title('Stated Monthly Income below $20,000')\n",
    "plt.ylabel('Count');"
   ]
  },
  {
   "cell_type": "markdown",
   "metadata": {},
   "source": [
    "<b>Observation:</b>\n",
    "- When plotting values below \\$20,000, the distribution appears skewed to the right.\n",
    "- Most values are between 2,500 and 7,500 dollars a month."
   ]
  },
  {
   "cell_type": "code",
   "execution_count": 28,
   "metadata": {},
   "outputs": [
    {
     "data": {
      "image/png": "[encoded data removed]",
      "text/plain": [
       "<Figure size 432x288 with 1 Axes>"
      ]
     },
     "metadata": {
      "needs_background": "light"
     },
     "output_type": "display_data"
    }
   ],
   "source": [
    "# Plotting Loan Original Amount column\n",
    "plt.hist(df_new['LoanOriginalAmount'])\n",
    "plt.xlabel('Loan Amount in $')\n",
    "plt.title('Loan Original Amount');"
   ]
  },
  {
   "cell_type": "markdown",
   "metadata": {},
   "source": [
    "<b>Observation:</b>\n",
    "- We can notice that points are mostly between 0 and 5000 dollars, with less counts arround higher amounts."
   ]
  },
  {
   "cell_type": "markdown",
   "metadata": {},
   "source": [
    "### Discuss the distribution(s) of your variable(s) of interest. Were there any unusual points? Did you need to perform any transformations?\n",
    "\n",
    "There are many features with values that are too rare occuring. Like the NC in CreditGrade. Also features that have a few dominant values like Term and ListingCategory\n",
    "\n",
    "### Of the features you investigated, were there any unusual distributions? Did you perform any operations on the data to tidy, adjust, or change the form of the data? If so, why did you do this?\n",
    "\n",
    "The StatedIncome variable was a good indicator after narrowing it down to incomes below \\$\\20,000, I saw that it is slighltly skewed to the right with most values between 2500 and 7500 dollars a month."
   ]
  },
  {
   "cell_type": "markdown",
   "metadata": {},
   "source": [
    "## Bivariate Exploration"
   ]
  },
  {
   "cell_type": "code",
   "execution_count": 29,
   "metadata": {},
   "outputs": [
    {
     "data": {
      "image/png": "[encoded data removed]",
      "text/plain": [
       "<Figure size 432x288 with 1 Axes>"
      ]
     },
     "metadata": {
      "needs_background": "light"
     },
     "output_type": "display_data"
    }
   ],
   "source": [
    "sb.barplot(data=df_new, x='ProsperScore', y='LoanOriginalAmount', color=base_color);"
   ]
  },
  {
   "cell_type": "markdown",
   "metadata": {},
   "source": [
    "<b>Observation:</b> \n",
    "- The higher the risk of the loan, the higher the amount given out for. "
   ]
  },
  {
   "cell_type": "code",
   "execution_count": 30,
   "metadata": {},
   "outputs": [
    {
     "data": {
      "image/png": "[encoded data removed]",
      "text/plain": [
       "<Figure size 432x288 with 1 Axes>"
      ]
     },
     "metadata": {
      "needs_background": "light"
     },
     "output_type": "display_data"
    }
   ],
   "source": [
    "sb.barplot(data=df_new, x='IncomeRange', y='LoanOriginalAmount', color=base_color)\n",
    "plt.xticks(rotation=45)\n",
    "plt.title('Income range and Loan amount');"
   ]
  },
  {
   "cell_type": "markdown",
   "metadata": {},
   "source": [
    "<b>Observation:</b>\n",
    "- Higher income ranges are given more loan amounts"
   ]
  },
  {
   "cell_type": "code",
   "execution_count": 31,
   "metadata": {},
   "outputs": [
    {
     "data": {
      "image/png": "[encoded data removed]",
      "text/plain": [
       "<Figure size 1080x504 with 1 Axes>"
      ]
     },
     "metadata": {
      "needs_background": "light"
     },
     "output_type": "display_data"
    }
   ],
   "source": [
    "plt.figure(figsize=[15,7])\n",
    "sb.countplot(data=df_new, x='IncomeRange', hue='IsBorrowerHomeowner');"
   ]
  },
  {
   "cell_type": "markdown",
   "metadata": {},
   "source": [
    "<b>Observation:</b>\n",
    "- It's apparent that the higher the income range for a person is, the more likely they will also own a home.\n",
    "- The highest count of loan applicants is for the mid-income level individuals who do not own a home."
   ]
  },
  {
   "cell_type": "markdown",
   "metadata": {},
   "source": [
    "### Did you observe any interesting relationships between the other features (not the main feature(s) of interest)?\n",
    "\n",
    "Yes, the homeownership obviusly is more true with higher income ranges than lower income ranges."
   ]
  },
  {
   "cell_type": "markdown",
   "metadata": {},
   "source": [
    "## Multivariate Exploration"
   ]
  },
  {
   "cell_type": "code",
   "execution_count": 32,
   "metadata": {},
   "outputs": [
    {
     "data": {
      "image/png": "[encoded data removed]",
      "text/plain": [
       "<Figure size 1080x360 with 1 Axes>"
      ]
     },
     "metadata": {
      "needs_background": "light"
     },
     "output_type": "display_data"
    }
   ],
   "source": [
    "plt.figure(figsize=[15,5])\n",
    "sb.boxplot(data = df_new, x = 'IncomeRange', y = 'BorrowerRate', hue = 'IsBorrowerHomeowner')\n",
    "plt.title('Borrower Rate per Income Range and Home Ownership');"
   ]
  },
  {
   "cell_type": "markdown",
   "metadata": {},
   "source": [
    "<b>Observation:</b>\n",
    "- It appears that the 'Not displayed' income range who does not own a home, stretches over the interest rates with even multiple outliers. Which means "
   ]
  },
  {
   "cell_type": "code",
   "execution_count": 74,
   "metadata": {
    "scrolled": true
   },
   "outputs": [
    {
     "ename": "KeyError",
     "evalue": "\"['Not displayed' 'Not employed'] not found in axis\"",
     "output_type": "error",
     "traceback": [
      "\u001b[1;31m---------------------------------------------------------------------------\u001b[0m",
      "\u001b[1;31mKeyError\u001b[0m                                  Traceback (most recent call last)",
      "\u001b[1;32m<ipython-input-74-c51bbec92636>\u001b[0m in \u001b[0;36m<module>\u001b[1;34m\u001b[0m\n\u001b[1;32m----> 1\u001b[1;33m \u001b[0mdf_new\u001b[0m\u001b[1;33m[\u001b[0m\u001b[1;34m'IncomeRange'\u001b[0m\u001b[1;33m]\u001b[0m\u001b[1;33m.\u001b[0m\u001b[0mastype\u001b[0m\u001b[1;33m(\u001b[0m\u001b[0mstr\u001b[0m\u001b[1;33m)\u001b[0m\u001b[1;33m.\u001b[0m\u001b[0mdrop\u001b[0m\u001b[1;33m(\u001b[0m\u001b[1;33m[\u001b[0m\u001b[1;34m'Not displayed'\u001b[0m\u001b[1;33m,\u001b[0m \u001b[1;34m'Not employed'\u001b[0m\u001b[1;33m]\u001b[0m\u001b[1;33m)\u001b[0m\u001b[1;33m\u001b[0m\u001b[1;33m\u001b[0m\u001b[0m\n\u001b[0m",
      "\u001b[1;32mC:\\ProgramData\\Anaconda3\\lib\\site-packages\\pandas\\core\\series.py\u001b[0m in \u001b[0;36mdrop\u001b[1;34m(self, labels, axis, index, columns, level, inplace, errors)\u001b[0m\n\u001b[0;32m   4502\u001b[0m             \u001b[0mlevel\u001b[0m\u001b[1;33m=\u001b[0m\u001b[0mlevel\u001b[0m\u001b[1;33m,\u001b[0m\u001b[1;33m\u001b[0m\u001b[1;33m\u001b[0m\u001b[0m\n\u001b[0;32m   4503\u001b[0m             \u001b[0minplace\u001b[0m\u001b[1;33m=\u001b[0m\u001b[0minplace\u001b[0m\u001b[1;33m,\u001b[0m\u001b[1;33m\u001b[0m\u001b[1;33m\u001b[0m\u001b[0m\n\u001b[1;32m-> 4504\u001b[1;33m             \u001b[0merrors\u001b[0m\u001b[1;33m=\u001b[0m\u001b[0merrors\u001b[0m\u001b[1;33m,\u001b[0m\u001b[1;33m\u001b[0m\u001b[1;33m\u001b[0m\u001b[0m\n\u001b[0m\u001b[0;32m   4505\u001b[0m         )\n\u001b[0;32m   4506\u001b[0m \u001b[1;33m\u001b[0m\u001b[0m\n",
      "\u001b[1;32mC:\\ProgramData\\Anaconda3\\lib\\site-packages\\pandas\\core\\generic.py\u001b[0m in \u001b[0;36mdrop\u001b[1;34m(self, labels, axis, index, columns, level, inplace, errors)\u001b[0m\n\u001b[0;32m   3885\u001b[0m         \u001b[1;32mfor\u001b[0m \u001b[0maxis\u001b[0m\u001b[1;33m,\u001b[0m \u001b[0mlabels\u001b[0m \u001b[1;32min\u001b[0m \u001b[0maxes\u001b[0m\u001b[1;33m.\u001b[0m\u001b[0mitems\u001b[0m\u001b[1;33m(\u001b[0m\u001b[1;33m)\u001b[0m\u001b[1;33m:\u001b[0m\u001b[1;33m\u001b[0m\u001b[1;33m\u001b[0m\u001b[0m\n\u001b[0;32m   3886\u001b[0m             \u001b[1;32mif\u001b[0m \u001b[0mlabels\u001b[0m \u001b[1;32mis\u001b[0m \u001b[1;32mnot\u001b[0m \u001b[1;32mNone\u001b[0m\u001b[1;33m:\u001b[0m\u001b[1;33m\u001b[0m\u001b[1;33m\u001b[0m\u001b[0m\n\u001b[1;32m-> 3887\u001b[1;33m                 \u001b[0mobj\u001b[0m \u001b[1;33m=\u001b[0m \u001b[0mobj\u001b[0m\u001b[1;33m.\u001b[0m\u001b[0m_drop_axis\u001b[0m\u001b[1;33m(\u001b[0m\u001b[0mlabels\u001b[0m\u001b[1;33m,\u001b[0m \u001b[0maxis\u001b[0m\u001b[1;33m,\u001b[0m \u001b[0mlevel\u001b[0m\u001b[1;33m=\u001b[0m\u001b[0mlevel\u001b[0m\u001b[1;33m,\u001b[0m \u001b[0merrors\u001b[0m\u001b[1;33m=\u001b[0m\u001b[0merrors\u001b[0m\u001b[1;33m)\u001b[0m\u001b[1;33m\u001b[0m\u001b[1;33m\u001b[0m\u001b[0m\n\u001b[0m\u001b[0;32m   3888\u001b[0m \u001b[1;33m\u001b[0m\u001b[0m\n\u001b[0;32m   3889\u001b[0m         \u001b[1;32mif\u001b[0m \u001b[0minplace\u001b[0m\u001b[1;33m:\u001b[0m\u001b[1;33m\u001b[0m\u001b[1;33m\u001b[0m\u001b[0m\n",
      "\u001b[1;32mC:\\ProgramData\\Anaconda3\\lib\\site-packages\\pandas\\core\\generic.py\u001b[0m in \u001b[0;36m_drop_axis\u001b[1;34m(self, labels, axis, level, errors)\u001b[0m\n\u001b[0;32m   3919\u001b[0m                 \u001b[0mnew_axis\u001b[0m \u001b[1;33m=\u001b[0m \u001b[0maxis\u001b[0m\u001b[1;33m.\u001b[0m\u001b[0mdrop\u001b[0m\u001b[1;33m(\u001b[0m\u001b[0mlabels\u001b[0m\u001b[1;33m,\u001b[0m \u001b[0mlevel\u001b[0m\u001b[1;33m=\u001b[0m\u001b[0mlevel\u001b[0m\u001b[1;33m,\u001b[0m \u001b[0merrors\u001b[0m\u001b[1;33m=\u001b[0m\u001b[0merrors\u001b[0m\u001b[1;33m)\u001b[0m\u001b[1;33m\u001b[0m\u001b[1;33m\u001b[0m\u001b[0m\n\u001b[0;32m   3920\u001b[0m             \u001b[1;32melse\u001b[0m\u001b[1;33m:\u001b[0m\u001b[1;33m\u001b[0m\u001b[1;33m\u001b[0m\u001b[0m\n\u001b[1;32m-> 3921\u001b[1;33m                 \u001b[0mnew_axis\u001b[0m \u001b[1;33m=\u001b[0m \u001b[0maxis\u001b[0m\u001b[1;33m.\u001b[0m\u001b[0mdrop\u001b[0m\u001b[1;33m(\u001b[0m\u001b[0mlabels\u001b[0m\u001b[1;33m,\u001b[0m \u001b[0merrors\u001b[0m\u001b[1;33m=\u001b[0m\u001b[0merrors\u001b[0m\u001b[1;33m)\u001b[0m\u001b[1;33m\u001b[0m\u001b[1;33m\u001b[0m\u001b[0m\n\u001b[0m\u001b[0;32m   3922\u001b[0m             \u001b[0mresult\u001b[0m \u001b[1;33m=\u001b[0m \u001b[0mself\u001b[0m\u001b[1;33m.\u001b[0m\u001b[0mreindex\u001b[0m\u001b[1;33m(\u001b[0m\u001b[1;33m**\u001b[0m\u001b[1;33m{\u001b[0m\u001b[0maxis_name\u001b[0m\u001b[1;33m:\u001b[0m \u001b[0mnew_axis\u001b[0m\u001b[1;33m}\u001b[0m\u001b[1;33m)\u001b[0m\u001b[1;33m\u001b[0m\u001b[1;33m\u001b[0m\u001b[0m\n\u001b[0;32m   3923\u001b[0m \u001b[1;33m\u001b[0m\u001b[0m\n",
      "\u001b[1;32mC:\\ProgramData\\Anaconda3\\lib\\site-packages\\pandas\\core\\indexes\\base.py\u001b[0m in \u001b[0;36mdrop\u001b[1;34m(self, labels, errors)\u001b[0m\n\u001b[0;32m   5280\u001b[0m         \u001b[1;32mif\u001b[0m \u001b[0mmask\u001b[0m\u001b[1;33m.\u001b[0m\u001b[0many\u001b[0m\u001b[1;33m(\u001b[0m\u001b[1;33m)\u001b[0m\u001b[1;33m:\u001b[0m\u001b[1;33m\u001b[0m\u001b[1;33m\u001b[0m\u001b[0m\n\u001b[0;32m   5281\u001b[0m             \u001b[1;32mif\u001b[0m \u001b[0merrors\u001b[0m \u001b[1;33m!=\u001b[0m \u001b[1;34m\"ignore\"\u001b[0m\u001b[1;33m:\u001b[0m\u001b[1;33m\u001b[0m\u001b[1;33m\u001b[0m\u001b[0m\n\u001b[1;32m-> 5282\u001b[1;33m                 \u001b[1;32mraise\u001b[0m \u001b[0mKeyError\u001b[0m\u001b[1;33m(\u001b[0m\u001b[1;34mf\"{labels[mask]} not found in axis\"\u001b[0m\u001b[1;33m)\u001b[0m\u001b[1;33m\u001b[0m\u001b[1;33m\u001b[0m\u001b[0m\n\u001b[0m\u001b[0;32m   5283\u001b[0m             \u001b[0mindexer\u001b[0m \u001b[1;33m=\u001b[0m \u001b[0mindexer\u001b[0m\u001b[1;33m[\u001b[0m\u001b[1;33m~\u001b[0m\u001b[0mmask\u001b[0m\u001b[1;33m]\u001b[0m\u001b[1;33m\u001b[0m\u001b[1;33m\u001b[0m\u001b[0m\n\u001b[0;32m   5284\u001b[0m         \u001b[1;32mreturn\u001b[0m \u001b[0mself\u001b[0m\u001b[1;33m.\u001b[0m\u001b[0mdelete\u001b[0m\u001b[1;33m(\u001b[0m\u001b[0mindexer\u001b[0m\u001b[1;33m)\u001b[0m\u001b[1;33m\u001b[0m\u001b[1;33m\u001b[0m\u001b[0m\n",
      "\u001b[1;31mKeyError\u001b[0m: \"['Not displayed' 'Not employed'] not found in axis\""
     ]
    }
   ],
   "source": [
    "df_new['IncomeRange'].astype(str).drop(['Not displayed', 'Not employed'])"
   ]
  },
  {
   "cell_type": "code",
   "execution_count": 70,
   "metadata": {},
   "outputs": [
    {
     "data": {
      "text/plain": [
       "$25,000-49,999    32192\n",
       "$50,000-74,999    31050\n",
       "$100,000+         17337\n",
       "$75,000-99,999    16916\n",
       "Not displayed      7741\n",
       "$1-24,999          7274\n",
       "Not employed        806\n",
       "$0                  621\n",
       "Name: IncomeRange, dtype: int64"
      ]
     },
     "execution_count": 70,
     "metadata": {},
     "output_type": "execute_result"
    }
   ],
   "source": [
    "df_new['IncomeRange'].value_counts()"
   ]
  },
  {
   "cell_type": "code",
   "execution_count": 63,
   "metadata": {},
   "outputs": [
    {
     "ename": "KeyError",
     "evalue": "\"['Not displayed' 'Not employed'] not found in axis\"",
     "output_type": "error",
     "traceback": [
      "\u001b[1;31m---------------------------------------------------------------------------\u001b[0m",
      "\u001b[1;31mKeyError\u001b[0m                                  Traceback (most recent call last)",
      "\u001b[1;32m<ipython-input-63-6c2071665730>\u001b[0m in \u001b[0;36m<module>\u001b[1;34m\u001b[0m\n\u001b[1;32m----> 1\u001b[1;33m \u001b[0mdf_new\u001b[0m\u001b[1;33m[\u001b[0m\u001b[1;34m'IncomeRange'\u001b[0m\u001b[1;33m]\u001b[0m\u001b[1;33m.\u001b[0m\u001b[0mdrop\u001b[0m\u001b[1;33m(\u001b[0m\u001b[0mindex\u001b[0m \u001b[1;33m=\u001b[0m \u001b[1;33m[\u001b[0m\u001b[1;34m'Not displayed'\u001b[0m\u001b[1;33m,\u001b[0m \u001b[1;34m'Not employed'\u001b[0m\u001b[1;33m]\u001b[0m\u001b[1;33m)\u001b[0m\u001b[1;33m\u001b[0m\u001b[1;33m\u001b[0m\u001b[0m\n\u001b[0m",
      "\u001b[1;32mC:\\ProgramData\\Anaconda3\\lib\\site-packages\\pandas\\core\\series.py\u001b[0m in \u001b[0;36mdrop\u001b[1;34m(self, labels, axis, index, columns, level, inplace, errors)\u001b[0m\n\u001b[0;32m   4502\u001b[0m             \u001b[0mlevel\u001b[0m\u001b[1;33m=\u001b[0m\u001b[0mlevel\u001b[0m\u001b[1;33m,\u001b[0m\u001b[1;33m\u001b[0m\u001b[1;33m\u001b[0m\u001b[0m\n\u001b[0;32m   4503\u001b[0m             \u001b[0minplace\u001b[0m\u001b[1;33m=\u001b[0m\u001b[0minplace\u001b[0m\u001b[1;33m,\u001b[0m\u001b[1;33m\u001b[0m\u001b[1;33m\u001b[0m\u001b[0m\n\u001b[1;32m-> 4504\u001b[1;33m             \u001b[0merrors\u001b[0m\u001b[1;33m=\u001b[0m\u001b[0merrors\u001b[0m\u001b[1;33m,\u001b[0m\u001b[1;33m\u001b[0m\u001b[1;33m\u001b[0m\u001b[0m\n\u001b[0m\u001b[0;32m   4505\u001b[0m         )\n\u001b[0;32m   4506\u001b[0m \u001b[1;33m\u001b[0m\u001b[0m\n",
      "\u001b[1;32mC:\\ProgramData\\Anaconda3\\lib\\site-packages\\pandas\\core\\generic.py\u001b[0m in \u001b[0;36mdrop\u001b[1;34m(self, labels, axis, index, columns, level, inplace, errors)\u001b[0m\n\u001b[0;32m   3885\u001b[0m         \u001b[1;32mfor\u001b[0m \u001b[0maxis\u001b[0m\u001b[1;33m,\u001b[0m \u001b[0mlabels\u001b[0m \u001b[1;32min\u001b[0m \u001b[0maxes\u001b[0m\u001b[1;33m.\u001b[0m\u001b[0mitems\u001b[0m\u001b[1;33m(\u001b[0m\u001b[1;33m)\u001b[0m\u001b[1;33m:\u001b[0m\u001b[1;33m\u001b[0m\u001b[1;33m\u001b[0m\u001b[0m\n\u001b[0;32m   3886\u001b[0m             \u001b[1;32mif\u001b[0m \u001b[0mlabels\u001b[0m \u001b[1;32mis\u001b[0m \u001b[1;32mnot\u001b[0m \u001b[1;32mNone\u001b[0m\u001b[1;33m:\u001b[0m\u001b[1;33m\u001b[0m\u001b[1;33m\u001b[0m\u001b[0m\n\u001b[1;32m-> 3887\u001b[1;33m                 \u001b[0mobj\u001b[0m \u001b[1;33m=\u001b[0m \u001b[0mobj\u001b[0m\u001b[1;33m.\u001b[0m\u001b[0m_drop_axis\u001b[0m\u001b[1;33m(\u001b[0m\u001b[0mlabels\u001b[0m\u001b[1;33m,\u001b[0m \u001b[0maxis\u001b[0m\u001b[1;33m,\u001b[0m \u001b[0mlevel\u001b[0m\u001b[1;33m=\u001b[0m\u001b[0mlevel\u001b[0m\u001b[1;33m,\u001b[0m \u001b[0merrors\u001b[0m\u001b[1;33m=\u001b[0m\u001b[0merrors\u001b[0m\u001b[1;33m)\u001b[0m\u001b[1;33m\u001b[0m\u001b[1;33m\u001b[0m\u001b[0m\n\u001b[0m\u001b[0;32m   3888\u001b[0m \u001b[1;33m\u001b[0m\u001b[0m\n\u001b[0;32m   3889\u001b[0m         \u001b[1;32mif\u001b[0m \u001b[0minplace\u001b[0m\u001b[1;33m:\u001b[0m\u001b[1;33m\u001b[0m\u001b[1;33m\u001b[0m\u001b[0m\n",
      "\u001b[1;32mC:\\ProgramData\\Anaconda3\\lib\\site-packages\\pandas\\core\\generic.py\u001b[0m in \u001b[0;36m_drop_axis\u001b[1;34m(self, labels, axis, level, errors)\u001b[0m\n\u001b[0;32m   3919\u001b[0m                 \u001b[0mnew_axis\u001b[0m \u001b[1;33m=\u001b[0m \u001b[0maxis\u001b[0m\u001b[1;33m.\u001b[0m\u001b[0mdrop\u001b[0m\u001b[1;33m(\u001b[0m\u001b[0mlabels\u001b[0m\u001b[1;33m,\u001b[0m \u001b[0mlevel\u001b[0m\u001b[1;33m=\u001b[0m\u001b[0mlevel\u001b[0m\u001b[1;33m,\u001b[0m \u001b[0merrors\u001b[0m\u001b[1;33m=\u001b[0m\u001b[0merrors\u001b[0m\u001b[1;33m)\u001b[0m\u001b[1;33m\u001b[0m\u001b[1;33m\u001b[0m\u001b[0m\n\u001b[0;32m   3920\u001b[0m             \u001b[1;32melse\u001b[0m\u001b[1;33m:\u001b[0m\u001b[1;33m\u001b[0m\u001b[1;33m\u001b[0m\u001b[0m\n\u001b[1;32m-> 3921\u001b[1;33m                 \u001b[0mnew_axis\u001b[0m \u001b[1;33m=\u001b[0m \u001b[0maxis\u001b[0m\u001b[1;33m.\u001b[0m\u001b[0mdrop\u001b[0m\u001b[1;33m(\u001b[0m\u001b[0mlabels\u001b[0m\u001b[1;33m,\u001b[0m \u001b[0merrors\u001b[0m\u001b[1;33m=\u001b[0m\u001b[0merrors\u001b[0m\u001b[1;33m)\u001b[0m\u001b[1;33m\u001b[0m\u001b[1;33m\u001b[0m\u001b[0m\n\u001b[0m\u001b[0;32m   3922\u001b[0m             \u001b[0mresult\u001b[0m \u001b[1;33m=\u001b[0m \u001b[0mself\u001b[0m\u001b[1;33m.\u001b[0m\u001b[0mreindex\u001b[0m\u001b[1;33m(\u001b[0m\u001b[1;33m**\u001b[0m\u001b[1;33m{\u001b[0m\u001b[0maxis_name\u001b[0m\u001b[1;33m:\u001b[0m \u001b[0mnew_axis\u001b[0m\u001b[1;33m}\u001b[0m\u001b[1;33m)\u001b[0m\u001b[1;33m\u001b[0m\u001b[1;33m\u001b[0m\u001b[0m\n\u001b[0;32m   3923\u001b[0m \u001b[1;33m\u001b[0m\u001b[0m\n",
      "\u001b[1;32mC:\\ProgramData\\Anaconda3\\lib\\site-packages\\pandas\\core\\indexes\\base.py\u001b[0m in \u001b[0;36mdrop\u001b[1;34m(self, labels, errors)\u001b[0m\n\u001b[0;32m   5280\u001b[0m         \u001b[1;32mif\u001b[0m \u001b[0mmask\u001b[0m\u001b[1;33m.\u001b[0m\u001b[0many\u001b[0m\u001b[1;33m(\u001b[0m\u001b[1;33m)\u001b[0m\u001b[1;33m:\u001b[0m\u001b[1;33m\u001b[0m\u001b[1;33m\u001b[0m\u001b[0m\n\u001b[0;32m   5281\u001b[0m             \u001b[1;32mif\u001b[0m \u001b[0merrors\u001b[0m \u001b[1;33m!=\u001b[0m \u001b[1;34m\"ignore\"\u001b[0m\u001b[1;33m:\u001b[0m\u001b[1;33m\u001b[0m\u001b[1;33m\u001b[0m\u001b[0m\n\u001b[1;32m-> 5282\u001b[1;33m                 \u001b[1;32mraise\u001b[0m \u001b[0mKeyError\u001b[0m\u001b[1;33m(\u001b[0m\u001b[1;34mf\"{labels[mask]} not found in axis\"\u001b[0m\u001b[1;33m)\u001b[0m\u001b[1;33m\u001b[0m\u001b[1;33m\u001b[0m\u001b[0m\n\u001b[0m\u001b[0;32m   5283\u001b[0m             \u001b[0mindexer\u001b[0m \u001b[1;33m=\u001b[0m \u001b[0mindexer\u001b[0m\u001b[1;33m[\u001b[0m\u001b[1;33m~\u001b[0m\u001b[0mmask\u001b[0m\u001b[1;33m]\u001b[0m\u001b[1;33m\u001b[0m\u001b[1;33m\u001b[0m\u001b[0m\n\u001b[0;32m   5284\u001b[0m         \u001b[1;32mreturn\u001b[0m \u001b[0mself\u001b[0m\u001b[1;33m.\u001b[0m\u001b[0mdelete\u001b[0m\u001b[1;33m(\u001b[0m\u001b[0mindexer\u001b[0m\u001b[1;33m)\u001b[0m\u001b[1;33m\u001b[0m\u001b[1;33m\u001b[0m\u001b[0m\n",
      "\u001b[1;31mKeyError\u001b[0m: \"['Not displayed' 'Not employed'] not found in axis\""
     ]
    }
   ],
   "source": [
    "df_new['IncomeRange'].drop(index = ['Not displayed', 'Not employed'])"
   ]
  },
  {
   "cell_type": "code",
   "execution_count": 59,
   "metadata": {},
   "outputs": [
    {
     "data": {
      "text/plain": [
       "$25,000-49,999    32192\n",
       "$50,000-74,999    31050\n",
       "$100,000+         17337\n",
       "$75,000-99,999    16916\n",
       "Not displayed      7741\n",
       "$1-24,999          7274\n",
       "Not employed        806\n",
       "$0                  621\n",
       "Name: IncomeRange, dtype: int64"
      ]
     },
     "execution_count": 59,
     "metadata": {},
     "output_type": "execute_result"
    }
   ],
   "source": [
    "df_new['IncomeRange'].value_counts()"
   ]
  },
  {
   "cell_type": "code",
   "execution_count": 48,
   "metadata": {},
   "outputs": [
    {
     "data": {
      "image/png": "[encoded data removed]",
      "text/plain": [
       "<Figure size 1080x360 with 1 Axes>"
      ]
     },
     "metadata": {
      "needs_background": "light"
     },
     "output_type": "display_data"
    }
   ],
   "source": [
    "plt.figure(figsize=[15,5])\n",
    "sb.barplot(data = df_new, x = 'IncomeRange', y = 'LoanOriginalAmount', hue = 'Term')\n",
    "plt.title('Loan Amount per Income Range and Term')\n",
    "plt.xlabel('Income Range of Borrowers')\n",
    "plt.legend(title = 'Loan Term in Months')\n",
    "plt.ylabel('Loan Amount in $')\n",
    "plt.savefig('test3.png');"
   ]
  },
  {
   "cell_type": "markdown",
   "metadata": {},
   "source": [
    "<b>Observation:</b>\n",
    "- Generally, the longer the term of the loan the higher its amount and vice versa.\n",
    "- High income ranges tends to get a bigger loan amount than lower income ranges."
   ]
  },
  {
   "cell_type": "markdown",
   "metadata": {},
   "source": [
    "### Were there any interesting or surprising interactions between features?\n",
    "\n",
    "The longer the term of the loan, the higher its amount and vice versa.\n",
    "High income ranges tends to get a bigger loan amount than lower income ranges."
   ]
  }
 ],
 "metadata": {
  "kernelspec": {
   "display_name": "Python 3",
   "language": "python",
   "name": "python3"
  },
  "language_info": {
   "codemirror_mode": {
    "name": "ipython",
    "version": 3
   },
   "file_extension": ".py",
   "mimetype": "text/x-python",
   "name": "python",
   "nbconvert_exporter": "python",
   "pygments_lexer": "ipython3",
   "version": "3.7.9"
  }
 },
 "nbformat": 4,
 "nbformat_minor": 2
}
